{
 "cells": [
  {
   "cell_type": "code",
   "execution_count": 7,
   "metadata": {},
   "outputs": [
    {
     "name": "stdout",
     "output_type": "stream",
     "text": [
      "The autoreload extension is already loaded. To reload it, use:\n",
      "  %reload_ext autoreload\n"
     ]
    },
    {
     "name": "stderr",
     "output_type": "stream",
     "text": [
      "/tmp/ipykernel_6928/2117665699.py:4: DeprecationWarning: `magic(...)` is deprecated since IPython 0.13 (warning added in 8.1), use run_line_magic(magic_name, parameter_s).\n",
      "  get_ipython().magic('load_ext autoreload')\n",
      "/tmp/ipykernel_6928/2117665699.py:5: DeprecationWarning: `magic(...)` is deprecated since IPython 0.13 (warning added in 8.1), use run_line_magic(magic_name, parameter_s).\n",
      "  get_ipython().magic('autoreload 2')\n"
     ]
    }
   ],
   "source": [
    "import pwd\n",
    "from IPython import get_ipython\n",
    "\n",
    "get_ipython().magic('load_ext autoreload')\n",
    "get_ipython().magic('autoreload 2')"
   ]
  },
  {
   "cell_type": "code",
   "execution_count": 8,
   "metadata": {},
   "outputs": [],
   "source": [
    "from jax import random\n",
    "import jax.numpy as jnp\n",
    "from scipy.io import arff\n",
    "\n",
    "from src.dbopt.FCNN import FCNN\n",
    "from src.dbopt.DB_sampler import DecisionBoundarySampler"
   ]
  },
  {
   "cell_type": "code",
   "execution_count": 9,
   "metadata": {},
   "outputs": [
    {
     "name": "stdout",
     "output_type": "stream",
     "text": [
      "gpu\n"
     ]
    }
   ],
   "source": [
    "seed = 24\n",
    "key = random.PRNGKey(seed)\n",
    "\n",
    "from jax.lib import xla_bridge\n",
    "print(xla_bridge.get_backend().platform)"
   ]
  },
  {
   "attachments": {},
   "cell_type": "markdown",
   "metadata": {},
   "source": [
    "### Importing the data"
   ]
  },
  {
   "cell_type": "code",
   "execution_count": 10,
   "metadata": {},
   "outputs": [
    {
     "name": "stdout",
     "output_type": "stream",
     "text": [
      "dataset shape :  (310, 7)\n",
      "proportion of positives in the dataset :  0.67741936\n",
      "training set shape :  (248, 7)\n",
      "test dataset shape :  (62, 7)\n"
     ]
    }
   ],
   "source": [
    "data = arff.loadarff('data/column_2C_weka.arff')[0]\n",
    "\n",
    "def row_void_to_array(entry):\n",
    "    return jnp.array([entry[i] for i in range(6)])\n",
    "\n",
    "key, ds_key = random.split(key)\n",
    "\n",
    "x = jnp.array(list(map(row_void_to_array, data)))\n",
    "y = jnp.array(list(map(lambda row : 0 if row[6]==b'Normal' else 1, data)))\n",
    "dataset = random.permutation(ds_key, jnp.concatenate((jnp.expand_dims(y, axis=1), x), axis=1), axis=0)\n",
    "\n",
    "train_fraction = 8/10\n",
    "num_training_examples = int(jnp.ceil(dataset.shape[0]*train_fraction))\n",
    "train_dataset = dataset[:num_training_examples, :]\n",
    "test_dataset = dataset[num_training_examples:, :]\n",
    "\n",
    "print(\"dataset shape : \", dataset.shape)\n",
    "print(\"proportion of positives in the dataset : \", jnp.sum(dataset[:, 0])/dataset.shape[0])\n",
    "print(\"training set shape : \", train_dataset.shape)\n",
    "print(\"test dataset shape : \", test_dataset.shape)"
   ]
  },
  {
   "attachments": {},
   "cell_type": "markdown",
   "metadata": {},
   "source": [
    "### Fitting a the network"
   ]
  },
  {
   "cell_type": "code",
   "execution_count": 11,
   "metadata": {},
   "outputs": [
    {
     "name": "stdout",
     "output_type": "stream",
     "text": [
      "epoch 0, loss = 7.2193379402160645, training accuracy = [0.43548387], test accuracy = [0.37096775]\n",
      "epoch 10, loss = 1.2778167724609375, training accuracy = [0.7096774], test accuracy = [0.6935484]\n",
      "epoch 20, loss = 0.47287869453430176, training accuracy = [0.8104839], test accuracy = [0.7419355]\n",
      "epoch 30, loss = 0.3217698633670807, training accuracy = [0.85483867], test accuracy = [0.80645156]\n",
      "epoch 40, loss = 0.25981631875038147, training accuracy = [0.875], test accuracy = [0.82258064]\n",
      "epoch 50, loss = 0.3233289122581482, training accuracy = [0.87096775], test accuracy = [0.79032254]\n",
      "epoch 60, loss = 0.1480976790189743, training accuracy = [0.84677416], test accuracy = [0.7741935]\n",
      "epoch 70, loss = 0.23900464177131653, training accuracy = [0.86693543], test accuracy = [0.7741935]\n",
      "epoch 80, loss = 0.20400534570217133, training accuracy = [0.87903225], test accuracy = [0.82258064]\n",
      "epoch 90, loss = 0.20499001443386078, training accuracy = [0.8830645], test accuracy = [0.79032254]\n",
      "epoch 100, loss = 0.2172408103942871, training accuracy = [0.8830645], test accuracy = [0.79032254]\n",
      "epoch 110, loss = 0.2806705832481384, training accuracy = [0.8588709], test accuracy = [0.7580645]\n",
      "epoch 120, loss = 0.27226799726486206, training accuracy = [0.8951613], test accuracy = [0.82258064]\n",
      "epoch 130, loss = 0.21067872643470764, training accuracy = [0.8951613], test accuracy = [0.79032254]\n",
      "epoch 140, loss = 0.27698415517807007, training accuracy = [0.8588709], test accuracy = [0.7580645]\n",
      "epoch 150, loss = 0.1399070918560028, training accuracy = [0.88709676], test accuracy = [0.80645156]\n",
      "epoch 160, loss = 0.2123257964849472, training accuracy = [0.8951613], test accuracy = [0.79032254]\n",
      "epoch 170, loss = 0.24327458441257477, training accuracy = [0.8991935], test accuracy = [0.80645156]\n",
      "epoch 180, loss = 0.25778335332870483, training accuracy = [0.875], test accuracy = [0.79032254]\n",
      "epoch 190, loss = 0.25619807839393616, training accuracy = [0.86693543], test accuracy = [0.79032254]\n",
      "epoch 200, loss = 0.25037071108818054, training accuracy = [0.8991935], test accuracy = [0.80645156]\n",
      "epoch 210, loss = 0.2672867774963379, training accuracy = [0.891129], test accuracy = [0.79032254]\n",
      "epoch 220, loss = 0.15481731295585632, training accuracy = [0.8830645], test accuracy = [0.79032254]\n",
      "epoch 230, loss = 0.20142199099063873, training accuracy = [0.8991935], test accuracy = [0.79032254]\n",
      "epoch 240, loss = 0.1395857185125351, training accuracy = [0.90725803], test accuracy = [0.79032254]\n",
      "epoch 250, loss = 0.139675110578537, training accuracy = [0.90725803], test accuracy = [0.80645156]\n",
      "epoch 260, loss = 0.1954645812511444, training accuracy = [0.9112903], test accuracy = [0.80645156]\n",
      "epoch 270, loss = 0.1935523897409439, training accuracy = [0.875], test accuracy = [0.7741935]\n",
      "epoch 280, loss = 0.21137793362140656, training accuracy = [0.9112903], test accuracy = [0.80645156]\n",
      "epoch 290, loss = 0.175083190202713, training accuracy = [0.891129], test accuracy = [0.80645156]\n"
     ]
    }
   ],
   "source": [
    "model = FCNN(num_neurons_per_layer=[100, 100, 100, 2])\n",
    "key, init_x_key = random.split(key)\n",
    "x_init = random.uniform(init_x_key, (6,))\n",
    "key, init_key = random.split(key)\n",
    "params = model.init(init_key, x_init)\n",
    "\n",
    "key, train_key = random.split(key)\n",
    "params = model.train(train_key, params, train_dataset, 300, lr=0.0001, logs_frequency=10, test_set=test_dataset)"
   ]
  },
  {
   "attachments": {},
   "cell_type": "markdown",
   "metadata": {},
   "source": [
    "### Try the sampler"
   ]
  },
  {
   "cell_type": "code",
   "execution_count": 12,
   "metadata": {},
   "outputs": [
    {
     "name": "stdout",
     "output_type": "stream",
     "text": [
      "0.92074597\n",
      "2.2708673e-05\n"
     ]
    }
   ],
   "source": [
    "input_dim = dataset[:, 1:].shape[1]\n",
    "min = jnp.min(dataset[:, 1:])\n",
    "max = jnp.max(dataset[:, 1:])\n",
    "sampler = DecisionBoundarySampler(n_points=1000,\n",
    "                                  input_dim=input_dim, min=min, max=max)\n",
    "\n",
    "print(jnp.mean(sampler._loss(sampler.get_points(), params, model)))\n",
    "sampling = sampler.sample(params, model, threshold=0.01)\n",
    "print(jnp.mean(sampler._loss(sampler.get_points(), params, model)))"
   ]
  },
  {
   "cell_type": "code",
   "execution_count": null,
   "metadata": {},
   "outputs": [],
   "source": []
  }
 ],
 "metadata": {
  "kernelspec": {
   "display_name": "dbopt-env",
   "language": "python",
   "name": "python3"
  },
  "language_info": {
   "codemirror_mode": {
    "name": "ipython",
    "version": 3
   },
   "file_extension": ".py",
   "mimetype": "text/x-python",
   "name": "python",
   "nbconvert_exporter": "python",
   "pygments_lexer": "ipython3",
   "version": "3.9.16"
  },
  "orig_nbformat": 4
 },
 "nbformat": 4,
 "nbformat_minor": 2
}
