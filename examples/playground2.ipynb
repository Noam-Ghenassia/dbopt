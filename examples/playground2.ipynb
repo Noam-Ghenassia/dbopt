{
 "cells": [
  {
   "cell_type": "code",
   "execution_count": 1,
   "metadata": {},
   "outputs": [
    {
     "name": "stderr",
     "output_type": "stream",
     "text": [
      "/tmp/ipykernel_2811/2117665699.py:4: DeprecationWarning: `magic(...)` is deprecated since IPython 0.13 (warning added in 8.1), use run_line_magic(magic_name, parameter_s).\n",
      "  get_ipython().magic('load_ext autoreload')\n",
      "/tmp/ipykernel_2811/2117665699.py:5: DeprecationWarning: `magic(...)` is deprecated since IPython 0.13 (warning added in 8.1), use run_line_magic(magic_name, parameter_s).\n",
      "  get_ipython().magic('autoreload 2')\n"
     ]
    }
   ],
   "source": [
    "import pwd\n",
    "from IPython import get_ipython\n",
    "\n",
    "get_ipython().magic('load_ext autoreload')\n",
    "get_ipython().magic('autoreload 2')"
   ]
  },
  {
   "cell_type": "code",
   "execution_count": 2,
   "metadata": {},
   "outputs": [],
   "source": [
    "from typing import Sequence\n",
    "\n",
    "from flax import linen as nn\n",
    "from jax import random, value_and_grad\n",
    "import jax.numpy as jnp\n",
    "from scipy.io import arff\n",
    "\n",
    "from src.dbopt.FCNN import FCNN"
   ]
  },
  {
   "cell_type": "code",
   "execution_count": 3,
   "metadata": {},
   "outputs": [
    {
     "name": "stdout",
     "output_type": "stream",
     "text": [
      "gpu\n"
     ]
    }
   ],
   "source": [
    "seed = 24\n",
    "key = random.PRNGKey(seed)\n",
    "\n",
    "from jax.lib import xla_bridge\n",
    "print(xla_bridge.get_backend().platform)"
   ]
  },
  {
   "attachments": {},
   "cell_type": "markdown",
   "metadata": {},
   "source": [
    "### Importing the data"
   ]
  },
  {
   "cell_type": "code",
   "execution_count": 4,
   "metadata": {},
   "outputs": [
    {
     "name": "stdout",
     "output_type": "stream",
     "text": [
      "(310, 7)\n"
     ]
    }
   ],
   "source": [
    "data = arff.loadarff('data/column_2C_weka.arff')[0]\n",
    "\n",
    "def row_void_to_array(entry):\n",
    "    return jnp.array([entry[i] for i in range(6)])\n",
    "\n",
    "key, ds_key = random.split(key)\n",
    "\n",
    "x = jnp.array(list(map(row_void_to_array, data)))\n",
    "y = jnp.array(list(map(lambda row : 0 if row[6]==b'Normal' else 1, data)))\n",
    "dataset = random.permutation(ds_key, jnp.concatenate((jnp.expand_dims(y, axis=1), x), axis=1), axis=0)\n",
    "\n",
    "print(dataset.shape)"
   ]
  },
  {
   "attachments": {},
   "cell_type": "markdown",
   "metadata": {},
   "source": [
    "### Fitting a the network"
   ]
  },
  {
   "cell_type": "code",
   "execution_count": 5,
   "metadata": {},
   "outputs": [
    {
     "name": "stdout",
     "output_type": "stream",
     "text": [
      "epoch 0, loss = 6.078137397766113, training accuracy = [0.5032258]\n",
      "epoch 10, loss = 0.8592239022254944, training accuracy = [0.6935484]\n",
      "epoch 20, loss = 0.34373438358306885, training accuracy = [0.82580644]\n",
      "epoch 30, loss = 0.37720781564712524, training accuracy = [0.86774194]\n",
      "epoch 40, loss = 0.5584328174591064, training accuracy = [0.83548385]\n",
      "epoch 50, loss = 0.32912495732307434, training accuracy = [0.85806453]\n",
      "epoch 60, loss = 0.3469810485839844, training accuracy = [0.85806453]\n",
      "epoch 70, loss = 0.3820207118988037, training accuracy = [0.86129034]\n",
      "epoch 80, loss = 0.33947569131851196, training accuracy = [0.81935483]\n",
      "epoch 90, loss = 0.2754552960395813, training accuracy = [0.86774194]\n",
      "epoch 100, loss = 0.24525286257266998, training accuracy = [0.85161287]\n",
      "epoch 110, loss = 0.3184654116630554, training accuracy = [0.86129034]\n",
      "epoch 120, loss = 0.3614353537559509, training accuracy = [0.85483867]\n",
      "epoch 130, loss = 0.28241774439811707, training accuracy = [0.86451614]\n",
      "epoch 140, loss = 0.2625971734523773, training accuracy = [0.87741935]\n",
      "epoch 150, loss = 0.21770507097244263, training accuracy = [0.84838706]\n",
      "epoch 160, loss = 0.17278844118118286, training accuracy = [0.87419355]\n",
      "epoch 170, loss = 0.2947200834751129, training accuracy = [0.88709676]\n",
      "epoch 180, loss = 0.2252652943134308, training accuracy = [0.84193546]\n",
      "epoch 190, loss = 0.2810637652873993, training accuracy = [0.89354837]\n",
      "epoch 200, loss = 0.232316255569458, training accuracy = [0.8967742]\n",
      "epoch 210, loss = 0.20861974358558655, training accuracy = [0.9096774]\n",
      "epoch 220, loss = 0.2803807556629181, training accuracy = [0.87741935]\n",
      "epoch 230, loss = 0.18107067048549652, training accuracy = [0.84838706]\n",
      "epoch 240, loss = 0.20708423852920532, training accuracy = [0.9]\n",
      "epoch 250, loss = 0.27912741899490356, training accuracy = [0.8967742]\n",
      "epoch 260, loss = 0.2105695903301239, training accuracy = [0.89032257]\n",
      "epoch 270, loss = 0.17933259904384613, training accuracy = [0.9]\n",
      "epoch 280, loss = 0.22905099391937256, training accuracy = [0.85806453]\n",
      "epoch 290, loss = 0.2235586941242218, training accuracy = [0.89032257]\n"
     ]
    }
   ],
   "source": [
    "model = FCNN(num_neurons_per_layer=[100, 100, 100, 2])\n",
    "key, init_x_key = random.split(key)\n",
    "x_init = random.uniform(init_x_key, (6,))\n",
    "key, init_key = random.split(key)\n",
    "params = model.init(init_key, x_init)\n",
    "\n",
    "key, train_key = random.split(key)\n",
    "params = model.train(train_key, params, dataset, 300, lr=0.0001, logs_frequency=10)"
   ]
  },
  {
   "cell_type": "code",
   "execution_count": null,
   "metadata": {},
   "outputs": [],
   "source": []
  }
 ],
 "metadata": {
  "kernelspec": {
   "display_name": "dbopt-env",
   "language": "python",
   "name": "python3"
  },
  "language_info": {
   "codemirror_mode": {
    "name": "ipython",
    "version": 3
   },
   "file_extension": ".py",
   "mimetype": "text/x-python",
   "name": "python",
   "nbconvert_exporter": "python",
   "pygments_lexer": "ipython3",
   "version": "3.9.16"
  },
  "orig_nbformat": 4
 },
 "nbformat": 4,
 "nbformat_minor": 2
}
