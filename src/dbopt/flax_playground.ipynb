{
 "cells": [
  {
   "cell_type": "code",
   "execution_count": 1,
   "metadata": {},
   "outputs": [
    {
     "name": "stderr",
     "output_type": "stream",
     "text": [
      "/tmp/ipykernel_303/2117665699.py:4: DeprecationWarning: `magic(...)` is deprecated since IPython 0.13 (warning added in 8.1), use run_line_magic(magic_name, parameter_s).\n",
      "  get_ipython().magic('load_ext autoreload')\n",
      "/tmp/ipykernel_303/2117665699.py:5: DeprecationWarning: `magic(...)` is deprecated since IPython 0.13 (warning added in 8.1), use run_line_magic(magic_name, parameter_s).\n",
      "  get_ipython().magic('autoreload 2')\n"
     ]
    }
   ],
   "source": [
    "import pwd\n",
    "from IPython import get_ipython\n",
    "\n",
    "get_ipython().magic('load_ext autoreload')\n",
    "get_ipython().magic('autoreload 2')"
   ]
  },
  {
   "cell_type": "code",
   "execution_count": 2,
   "metadata": {},
   "outputs": [],
   "source": [
    "import functools\n",
    "from typing import Any, Callable, Sequence, Optional\n",
    "\n",
    "import flax\n",
    "from flax.core import freeze, unfreeze\n",
    "from flax import linen as nn\n",
    "from flax.training import train_state\n",
    "import jax\n",
    "from jax import lax, random, numpy as jnp\n",
    "import matplotlib.pyplot as plt\n",
    "import numpy as np\n",
    "import optax\n",
    "\n",
    "from dbopt.Datasets import Spiral"
   ]
  },
  {
   "cell_type": "code",
   "execution_count": 3,
   "metadata": {},
   "outputs": [],
   "source": [
    "seed = 23\n",
    "key = random.PRNGKey(seed)"
   ]
  },
  {
   "cell_type": "code",
   "execution_count": 4,
   "metadata": {},
   "outputs": [],
   "source": [
    "key, ds_key = random.split(key)\n",
    "spiral = Spiral(100, ds_key)\n",
    "dataset = spiral.get_dataset()\n",
    "\n",
    "\n",
    "def make_batches(key, dataset, batch_size=64):\n",
    "    \"\"\"This method returns a list containing batches sampled randomly from the\n",
    "    dataset, with the indicated batch size (except for the last batch, which\n",
    "    might be smaller\"\"\"\n",
    "\n",
    "    \n",
    "    n_points = dataset.shape[0]\n",
    "    remainder = n_points % batch_size\n",
    "    num_full_batches = (n_points - remainder)/batch_size\n",
    "    permuted_dataset = random.permutation(key, dataset)\n",
    "    batches_list = []\n",
    "    for batch in range(int(num_full_batches)):\n",
    "        batches_list.append(permuted_dataset[batch:batch+batch_size, :])\n",
    "    batches_list.append(permuted_dataset[-remainder-1:-1, :])\n",
    "    return batches_list\n"
   ]
  },
  {
   "cell_type": "code",
   "execution_count": 5,
   "metadata": {},
   "outputs": [],
   "source": [
    "class FCNN(nn.Module):\n",
    "    num_neurons_per_layer: Sequence[int]  # data field (nn.Module is Python's dataclass)\n",
    "\n",
    "    def setup(self):  # because dataclass is implicitly using the  __init__ function... :')\n",
    "        self.layers = [nn.Dense(n) for n in self.num_neurons_per_layer]\n",
    "\n",
    "    def __call__(self, x):\n",
    "        activation = x\n",
    "        for i, layer in enumerate(self.layers):\n",
    "            activation = layer(activation)\n",
    "            if i != len(self.layers) - 1:\n",
    "                activation = nn.relu(activation)\n",
    "        return jnp.exp(nn.log_softmax(activation))\n",
    "\n",
    "model = FCNN(num_neurons_per_layer=[10, 10, 10, 10, 10, 2])\n",
    "key, init_x_key = random.split(key)\n",
    "x_init = random.uniform(init_x_key, (2,))\n",
    "key, init_key = random.split(key)\n",
    "params = model.init(init_key, x_init)\n"
   ]
  },
  {
   "cell_type": "code",
   "execution_count": 6,
   "metadata": {},
   "outputs": [],
   "source": [
    "def make_loss_fn(model, data, labels):\n",
    "    def loss_fn(params):\n",
    "        preds = model.apply(params, data)\n",
    "        one_hot_gt_labels = jax.nn.one_hot(labels, num_classes=2)\n",
    "        loss = -jnp.mean(jnp.sum(one_hot_gt_labels * jnp.log(preds), axis=-1))\n",
    "        return loss   \n",
    "    return loss_fn"
   ]
  },
  {
   "cell_type": "code",
   "execution_count": 7,
   "metadata": {},
   "outputs": [],
   "source": [
    "opt = optax.adam(learning_rate=0.01)\n",
    "opt_state = opt.init(params)"
   ]
  },
  {
   "cell_type": "code",
   "execution_count": null,
   "metadata": {},
   "outputs": [],
   "source": [
    "epochs = 100\n",
    "\n",
    "for epoch in range(epochs):\n",
    "    key, batch_key = random.split(key)\n",
    "    batches = make_batches(batch_key, dataset)\n",
    "    epoch_loss = jnp.empty((len(batches),))\n",
    "    for batch_nb, batch in enumerate(batches):\n",
    "        batch_data = batch[:, 1:]\n",
    "        batch_labels = jnp.squeeze(batch[:, :1], axis=1)\n",
    "        loss = make_loss_fn(model, batch_data, batch_labels)\n",
    "        loss, grads = jax.value_and_grad(loss)(params)\n",
    "        epoch_loss = epoch_loss.at[batch_nb].set(loss)\n",
    "        updates, opt_state = opt.update(grads, opt_state)\n",
    "        params = optax.apply_updates(params, updates)\n",
    "        \n",
    "    if epoch % 5 == 0:\n",
    "        #print(jnp.mean(epoch_loss))\n",
    "        print(f'epoch {epoch}, loss = {loss}')\n",
    "    "
   ]
  },
  {
   "cell_type": "code",
   "execution_count": null,
   "metadata": {},
   "outputs": [],
   "source": [
    "def plot_decision_boundary(ax, x_min=-10., x_max=10., y_min=-10., y_max=10.):\n",
    "    \"\"\"This function allows to plot the network's decision boundary on a given figure.\n",
    "\n",
    "    Args:\n",
    "    ax (matplotlib.axes.Axes): the pyplot figure on which the dataset is plotted.\n",
    "    x_min (float, optional): lower bound of the x axis of the plot. Defaults to -10..\n",
    "    x_max (float, optional): high bound of the x axis of the plot. Defaults to 10..\n",
    "    y_min (float, optional): lower bound of the y axis of the plot. Defaults to -10..\n",
    "    y_max (float, optional): high bound of the y axis of the plot. Defaults to 10..\n",
    "    \"\"\"\n",
    "    x = jnp.linspace(x_min, x_max, 220)\n",
    "    y = jnp.linspace(y_min, y_max, 220)\n",
    "    grid_x = jnp.meshgrid(x, y)[0].reshape(-1, 1)\n",
    "    grid_y = jnp.meshgrid(x, y)[1].reshape(-1, 1)\n",
    "    grid = jnp.concatenate([grid_x, grid_y], axis=1)\n",
    "\n",
    "    grid = jnp.expand_dims(grid, axis=1)\n",
    "    out = model.apply(params, grid)\n",
    "    out = np.squeeze(out, axis=1)[: , 1].reshape(len(x), -1)\n",
    "\n",
    "    ax.contourf(jnp.meshgrid(x, y)[0], jnp.meshgrid(x, y)[1], out)\n",
    "\n",
    "fig, (ax1, ax2) = plt.subplots(2, figsize=(11, 11))\n",
    "spiral.plot(ax1)\n",
    "plot_decision_boundary(ax1)\n",
    "\n"
   ]
  },
  {
   "cell_type": "code",
   "execution_count": 12,
   "metadata": {},
   "outputs": [
    {
     "name": "stderr",
     "output_type": "stream",
     "text": [
      "/home/ghenassia_n/dbopt-py39/lib/python3.9/site-packages/jax/_src/tree_util.py:185: FutureWarning: jax.tree_util.tree_multimap() is deprecated. Please use jax.tree_util.tree_map() instead as a drop-in replacement.\n",
      "  warnings.warn('jax.tree_util.tree_multimap() is deprecated. Please use jax.tree_util.tree_map() '\n"
     ]
    },
    {
     "name": "stdout",
     "output_type": "stream",
     "text": [
      "epoch 0, loss = 0.7703549861907959\n",
      "epoch 25, loss = 0.3179054260253906\n",
      "epoch 50, loss = 0.26380327343940735\n",
      "epoch 75, loss = 0.04242295026779175\n",
      "epoch 100, loss = 0.003065371885895729\n",
      "epoch 125, loss = 0.0003863170277327299\n"
     ]
    },
    {
     "data": {
      "image/png": "[encoded data removed]",
      "text/plain": [
       "<Figure size 792x792 with 2 Axes>"
      ]
     },
     "metadata": {
      "needs_background": "light"
     },
     "output_type": "display_data"
    }
   ],
   "source": [
    "from dbopt.FCNN import FCNN\n",
    "from dbopt.Datasets import Spiral\n",
    "\n",
    "key, ds_key = random.split(key)\n",
    "spiral = Spiral(75, ds_key)\n",
    "dataset = spiral.get_dataset()\n",
    "\n",
    "network = FCNN(num_neurons_per_layer=[10, 10, 10, 10, 10, 2])\n",
    "key, init_x_key = random.split(key)\n",
    "x_init = random.uniform(init_x_key, (2,))\n",
    "key, init_key = random.split(key)\n",
    "params = network.init(init_key, x_init)\n",
    "\n",
    "#print(jax.tree_map(lambda x: x.shape, params))\n",
    "fig, (ax1, ax2) = plt.subplots(2, figsize=(11, 11))\n",
    "spiral.plot(ax1)\n",
    "network.plot_decision_boundary(params, ax1)\n",
    "key, train_key = random.split(key)\n",
    "params = network.train(train_key, params, dataset, 150)\n",
    "spiral.plot(ax2)\n",
    "network.plot_decision_boundary(params, ax2)"
   ]
  },
  {
   "cell_type": "code",
   "execution_count": 14,
   "metadata": {},
   "outputs": [
    {
     "name": "stdout",
     "output_type": "stream",
     "text": [
      "[9.9940711e-01 5.9291784e-04]\n"
     ]
    }
   ],
   "source": [
    "print(network.apply(params, jnp.array([1., 2.])))"
   ]
  },
  {
   "cell_type": "code",
   "execution_count": null,
   "metadata": {},
   "outputs": [],
   "source": []
  }
 ],
 "metadata": {
  "interpreter": {
   "hash": "1349123ea99e0398c05b2a3e0da01e94cff11d6e9da8970008648e217e7f9e33"
  },
  "kernelspec": {
   "display_name": "Python 3.9.12 ('dbopt-py39')",
   "language": "python",
   "name": "python3"
  },
  "language_info": {
   "codemirror_mode": {
    "name": "ipython",
    "version": 3
   },
   "file_extension": ".py",
   "mimetype": "text/x-python",
   "name": "python",
   "nbconvert_exporter": "python",
   "pygments_lexer": "ipython3",
   "version": "3.9.12"
  },
  "orig_nbformat": 4
 },
 "nbformat": 4,
 "nbformat_minor": 2
}
